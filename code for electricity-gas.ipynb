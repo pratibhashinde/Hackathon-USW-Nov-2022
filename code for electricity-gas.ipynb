{
 "cells": [
  {
   "cell_type": "markdown",
   "metadata": {},
   "source": [
    "### converting text date to date format"
   ]
  },
  {
   "cell_type": "code",
   "execution_count": 23,
   "metadata": {},
   "outputs": [],
   "source": [
    "import pandas as pd\n",
    "import numpy as np\n",
    "import seaborn as sns\n",
    "from datetime import datetime\n"
   ]
  },
  {
   "cell_type": "code",
   "execution_count": 24,
   "metadata": {},
   "outputs": [
    {
     "name": "stdout",
     "output_type": "stream",
     "text": [
      "       Date  Gas (in British pence per therm)  \\\n",
      "0   Sep '15                             41.04   \n",
      "1   Oct '15                             39.56   \n",
      "2   Nov '15                             35.90   \n",
      "3   Dec '15                             34.03   \n",
      "4   Jan '16                             32.05   \n",
      "..      ...                               ...   \n",
      "74  Nov '21                            201.09   \n",
      "75  Dec '21                            270.96   \n",
      "76  Jan '22                            203.75   \n",
      "77  Feb '22                            187.77   \n",
      "78  Mar '22                            313.57   \n",
      "\n",
      "    electricity (in British pounds per megawatt hour)  \n",
      "0                                               42.04  \n",
      "1                                               40.29  \n",
      "2                                               38.01  \n",
      "3                                               35.07  \n",
      "4                                               36.95  \n",
      "..                                                ...  \n",
      "74                                             209.55  \n",
      "75                                             262.52  \n",
      "76                                             206.88  \n",
      "77                                             166.93  \n",
      "78                                             263.79  \n",
      "\n",
      "[79 rows x 3 columns]\n"
     ]
    }
   ],
   "source": [
    "data=pd.read_excel('average-monthly-electricity-gas-prices-in-great-britain-2015-2022.xlsx',sheet_name=\"Data\")\n",
    "print(data)"
   ]
  },
  {
   "cell_type": "code",
   "execution_count": 25,
   "metadata": {},
   "outputs": [
    {
     "data": {
      "text/plain": [
       "Index(['Date', 'Gas (in British pence per therm)',\n",
       "       'electricity (in British pounds per megawatt hour)'],\n",
       "      dtype='object')"
      ]
     },
     "execution_count": 25,
     "metadata": {},
     "output_type": "execute_result"
    }
   ],
   "source": [
    "data.columns"
   ]
  },
  {
   "cell_type": "code",
   "execution_count": 26,
   "metadata": {},
   "outputs": [
    {
     "name": "stdout",
     "output_type": "stream",
     "text": [
      "<class 'pandas.core.frame.DataFrame'>\n",
      "RangeIndex: 79 entries, 0 to 78\n",
      "Data columns (total 3 columns):\n",
      " #   Column                                             Non-Null Count  Dtype  \n",
      "---  ------                                             --------------  -----  \n",
      " 0   Date                                               79 non-null     object \n",
      " 1   Gas (in British pence per therm)                   79 non-null     float64\n",
      " 2   electricity (in British pounds per megawatt hour)  79 non-null     float64\n",
      "dtypes: float64(2), object(1)\n",
      "memory usage: 2.0+ KB\n"
     ]
    }
   ],
   "source": [
    "data.info()"
   ]
  },
  {
   "cell_type": "code",
   "execution_count": 27,
   "metadata": {},
   "outputs": [],
   "source": [
    "d1=data['Date'].str.split(\"'\",expand=True)"
   ]
  },
  {
   "cell_type": "code",
   "execution_count": 28,
   "metadata": {},
   "outputs": [
    {
     "data": {
      "text/html": [
       "<div>\n",
       "<style scoped>\n",
       "    .dataframe tbody tr th:only-of-type {\n",
       "        vertical-align: middle;\n",
       "    }\n",
       "\n",
       "    .dataframe tbody tr th {\n",
       "        vertical-align: top;\n",
       "    }\n",
       "\n",
       "    .dataframe thead th {\n",
       "        text-align: right;\n",
       "    }\n",
       "</style>\n",
       "<table border=\"1\" class=\"dataframe\">\n",
       "  <thead>\n",
       "    <tr style=\"text-align: right;\">\n",
       "      <th></th>\n",
       "      <th>Date</th>\n",
       "      <th>Gas (in British pence per therm)</th>\n",
       "      <th>electricity (in British pounds per megawatt hour)</th>\n",
       "      <th>date</th>\n",
       "    </tr>\n",
       "  </thead>\n",
       "  <tbody>\n",
       "    <tr>\n",
       "      <th>0</th>\n",
       "      <td>Sep '15</td>\n",
       "      <td>41.04</td>\n",
       "      <td>42.04</td>\n",
       "      <td>Sep 15</td>\n",
       "    </tr>\n",
       "    <tr>\n",
       "      <th>1</th>\n",
       "      <td>Oct '15</td>\n",
       "      <td>39.56</td>\n",
       "      <td>40.29</td>\n",
       "      <td>Oct 15</td>\n",
       "    </tr>\n",
       "    <tr>\n",
       "      <th>2</th>\n",
       "      <td>Nov '15</td>\n",
       "      <td>35.90</td>\n",
       "      <td>38.01</td>\n",
       "      <td>Nov 15</td>\n",
       "    </tr>\n",
       "    <tr>\n",
       "      <th>3</th>\n",
       "      <td>Dec '15</td>\n",
       "      <td>34.03</td>\n",
       "      <td>35.07</td>\n",
       "      <td>Dec 15</td>\n",
       "    </tr>\n",
       "    <tr>\n",
       "      <th>4</th>\n",
       "      <td>Jan '16</td>\n",
       "      <td>32.05</td>\n",
       "      <td>36.95</td>\n",
       "      <td>Jan 16</td>\n",
       "    </tr>\n",
       "  </tbody>\n",
       "</table>\n",
       "</div>"
      ],
      "text/plain": [
       "      Date  Gas (in British pence per therm)  \\\n",
       "0  Sep '15                             41.04   \n",
       "1  Oct '15                             39.56   \n",
       "2  Nov '15                             35.90   \n",
       "3  Dec '15                             34.03   \n",
       "4  Jan '16                             32.05   \n",
       "\n",
       "   electricity (in British pounds per megawatt hour)    date  \n",
       "0                                              42.04  Sep 15  \n",
       "1                                              40.29  Oct 15  \n",
       "2                                              38.01  Nov 15  \n",
       "3                                              35.07  Dec 15  \n",
       "4                                              36.95  Jan 16  "
      ]
     },
     "execution_count": 28,
     "metadata": {},
     "output_type": "execute_result"
    }
   ],
   "source": [
    "d2=d1[0]+d1[1]\n",
    "data['date']=d2\n",
    "data.head()"
   ]
  },
  {
   "cell_type": "code",
   "execution_count": 22,
   "metadata": {},
   "outputs": [],
   "source": [
    "data.to_csv('electriciy_gas.csv')"
   ]
  },
  {
   "cell_type": "code",
   "execution_count": null,
   "metadata": {},
   "outputs": [],
   "source": []
  }
 ],
 "metadata": {
  "kernelspec": {
   "display_name": "Python 3",
   "language": "python",
   "name": "python3"
  },
  "language_info": {
   "codemirror_mode": {
    "name": "ipython",
    "version": 3
   },
   "file_extension": ".py",
   "mimetype": "text/x-python",
   "name": "python",
   "nbconvert_exporter": "python",
   "pygments_lexer": "ipython3",
   "version": "3.7.6"
  }
 },
 "nbformat": 4,
 "nbformat_minor": 4
}
