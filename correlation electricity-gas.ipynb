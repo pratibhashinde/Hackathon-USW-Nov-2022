{
 "cells": [
  {
   "cell_type": "markdown",
   "metadata": {},
   "source": [
    "### correlation"
   ]
  },
  {
   "cell_type": "code",
   "execution_count": 1,
   "metadata": {},
   "outputs": [],
   "source": [
    "import pandas as pd\n",
    "import numpy as np\n",
    "import matplotlib.pyplot as plt\n",
    "import seaborn as sns"
   ]
  },
  {
   "cell_type": "code",
   "execution_count": 2,
   "metadata": {},
   "outputs": [
    {
     "data": {
      "text/html": [
       "<div>\n",
       "<style scoped>\n",
       "    .dataframe tbody tr th:only-of-type {\n",
       "        vertical-align: middle;\n",
       "    }\n",
       "\n",
       "    .dataframe tbody tr th {\n",
       "        vertical-align: top;\n",
       "    }\n",
       "\n",
       "    .dataframe thead th {\n",
       "        text-align: right;\n",
       "    }\n",
       "</style>\n",
       "<table border=\"1\" class=\"dataframe\">\n",
       "  <thead>\n",
       "    <tr style=\"text-align: right;\">\n",
       "      <th></th>\n",
       "      <th>Unnamed: 0</th>\n",
       "      <th>Date</th>\n",
       "      <th>Gas (in British pence per therm)</th>\n",
       "      <th>electricity (in British pounds per megawatt hour)</th>\n",
       "      <th>date</th>\n",
       "    </tr>\n",
       "  </thead>\n",
       "  <tbody>\n",
       "    <tr>\n",
       "      <th>0</th>\n",
       "      <td>0</td>\n",
       "      <td>Sep '15</td>\n",
       "      <td>41.04</td>\n",
       "      <td>42.04</td>\n",
       "      <td>Sep 15</td>\n",
       "    </tr>\n",
       "    <tr>\n",
       "      <th>1</th>\n",
       "      <td>1</td>\n",
       "      <td>Oct '15</td>\n",
       "      <td>39.56</td>\n",
       "      <td>40.29</td>\n",
       "      <td>Oct 15</td>\n",
       "    </tr>\n",
       "    <tr>\n",
       "      <th>2</th>\n",
       "      <td>2</td>\n",
       "      <td>Nov '15</td>\n",
       "      <td>35.90</td>\n",
       "      <td>38.01</td>\n",
       "      <td>Nov 15</td>\n",
       "    </tr>\n",
       "    <tr>\n",
       "      <th>3</th>\n",
       "      <td>3</td>\n",
       "      <td>Dec '15</td>\n",
       "      <td>34.03</td>\n",
       "      <td>35.07</td>\n",
       "      <td>Dec 15</td>\n",
       "    </tr>\n",
       "    <tr>\n",
       "      <th>4</th>\n",
       "      <td>4</td>\n",
       "      <td>Jan '16</td>\n",
       "      <td>32.05</td>\n",
       "      <td>36.95</td>\n",
       "      <td>Jan 16</td>\n",
       "    </tr>\n",
       "  </tbody>\n",
       "</table>\n",
       "</div>"
      ],
      "text/plain": [
       "   Unnamed: 0     Date  Gas (in British pence per therm)  \\\n",
       "0           0  Sep '15                             41.04   \n",
       "1           1  Oct '15                             39.56   \n",
       "2           2  Nov '15                             35.90   \n",
       "3           3  Dec '15                             34.03   \n",
       "4           4  Jan '16                             32.05   \n",
       "\n",
       "   electricity (in British pounds per megawatt hour)    date  \n",
       "0                                              42.04  Sep 15  \n",
       "1                                              40.29  Oct 15  \n",
       "2                                              38.01  Nov 15  \n",
       "3                                              35.07  Dec 15  \n",
       "4                                              36.95  Jan 16  "
      ]
     },
     "execution_count": 2,
     "metadata": {},
     "output_type": "execute_result"
    }
   ],
   "source": [
    "data=pd.read_csv('electriciy_gas.csv')\n",
    "data.head()"
   ]
  },
  {
   "cell_type": "code",
   "execution_count": 3,
   "metadata": {},
   "outputs": [
    {
     "data": {
      "text/html": [
       "<div>\n",
       "<style scoped>\n",
       "    .dataframe tbody tr th:only-of-type {\n",
       "        vertical-align: middle;\n",
       "    }\n",
       "\n",
       "    .dataframe tbody tr th {\n",
       "        vertical-align: top;\n",
       "    }\n",
       "\n",
       "    .dataframe thead th {\n",
       "        text-align: right;\n",
       "    }\n",
       "</style>\n",
       "<table border=\"1\" class=\"dataframe\">\n",
       "  <thead>\n",
       "    <tr style=\"text-align: right;\">\n",
       "      <th></th>\n",
       "      <th>date</th>\n",
       "      <th>Gas (in British pence per therm)</th>\n",
       "      <th>electricity (in British pounds per megawatt hour)</th>\n",
       "    </tr>\n",
       "  </thead>\n",
       "  <tbody>\n",
       "    <tr>\n",
       "      <th>0</th>\n",
       "      <td>Sep 15</td>\n",
       "      <td>41.04</td>\n",
       "      <td>42.04</td>\n",
       "    </tr>\n",
       "    <tr>\n",
       "      <th>1</th>\n",
       "      <td>Oct 15</td>\n",
       "      <td>39.56</td>\n",
       "      <td>40.29</td>\n",
       "    </tr>\n",
       "    <tr>\n",
       "      <th>2</th>\n",
       "      <td>Nov 15</td>\n",
       "      <td>35.90</td>\n",
       "      <td>38.01</td>\n",
       "    </tr>\n",
       "    <tr>\n",
       "      <th>3</th>\n",
       "      <td>Dec 15</td>\n",
       "      <td>34.03</td>\n",
       "      <td>35.07</td>\n",
       "    </tr>\n",
       "    <tr>\n",
       "      <th>4</th>\n",
       "      <td>Jan 16</td>\n",
       "      <td>32.05</td>\n",
       "      <td>36.95</td>\n",
       "    </tr>\n",
       "  </tbody>\n",
       "</table>\n",
       "</div>"
      ],
      "text/plain": [
       "     date  Gas (in British pence per therm)  \\\n",
       "0  Sep 15                             41.04   \n",
       "1  Oct 15                             39.56   \n",
       "2  Nov 15                             35.90   \n",
       "3  Dec 15                             34.03   \n",
       "4  Jan 16                             32.05   \n",
       "\n",
       "   electricity (in British pounds per megawatt hour)  \n",
       "0                                              42.04  \n",
       "1                                              40.29  \n",
       "2                                              38.01  \n",
       "3                                              35.07  \n",
       "4                                              36.95  "
      ]
     },
     "execution_count": 3,
     "metadata": {},
     "output_type": "execute_result"
    }
   ],
   "source": [
    "df=data[['date','Gas (in British pence per therm)','electricity (in British pounds per megawatt hour)']]\n",
    "df.head()"
   ]
  },
  {
   "cell_type": "code",
   "execution_count": 7,
   "metadata": {},
   "outputs": [
    {
     "data": {
      "text/html": [
       "<div>\n",
       "<style scoped>\n",
       "    .dataframe tbody tr th:only-of-type {\n",
       "        vertical-align: middle;\n",
       "    }\n",
       "\n",
       "    .dataframe tbody tr th {\n",
       "        vertical-align: top;\n",
       "    }\n",
       "\n",
       "    .dataframe thead th {\n",
       "        text-align: right;\n",
       "    }\n",
       "</style>\n",
       "<table border=\"1\" class=\"dataframe\">\n",
       "  <thead>\n",
       "    <tr style=\"text-align: right;\">\n",
       "      <th></th>\n",
       "      <th>Gas (in British pence per therm)</th>\n",
       "      <th>electricity (in British pounds per megawatt hour)</th>\n",
       "    </tr>\n",
       "  </thead>\n",
       "  <tbody>\n",
       "    <tr>\n",
       "      <th>Gas (in British pence per therm)</th>\n",
       "      <td>1.000000</td>\n",
       "      <td>0.975493</td>\n",
       "    </tr>\n",
       "    <tr>\n",
       "      <th>electricity (in British pounds per megawatt hour)</th>\n",
       "      <td>0.975493</td>\n",
       "      <td>1.000000</td>\n",
       "    </tr>\n",
       "  </tbody>\n",
       "</table>\n",
       "</div>"
      ],
      "text/plain": [
       "                                                   Gas (in British pence per therm)  \\\n",
       "Gas (in British pence per therm)                                           1.000000   \n",
       "electricity (in British pounds per megawatt hour)                          0.975493   \n",
       "\n",
       "                                                   electricity (in British pounds per megawatt hour)  \n",
       "Gas (in British pence per therm)                                                            0.975493  \n",
       "electricity (in British pounds per megawatt hour)                                           1.000000  "
      ]
     },
     "execution_count": 7,
     "metadata": {},
     "output_type": "execute_result"
    }
   ],
   "source": [
    "corr=data[['Gas (in British pence per therm)','electricity (in British pounds per megawatt hour)']].corr()\n",
    "corr"
   ]
  },
  {
   "cell_type": "code",
   "execution_count": 8,
   "metadata": {},
   "outputs": [
    {
     "data": {
      "text/plain": [
       "<AxesSubplot:>"
      ]
     },
     "execution_count": 8,
     "metadata": {},
     "output_type": "execute_result"
    },
    {
     "data": {
      "image/png": "[encoded data removed]",
      "text/plain": [
       "<Figure size 432x288 with 1 Axes>"
      ]
     },
     "metadata": {
      "needs_background": "light"
     },
     "output_type": "display_data"
    }
   ],
   "source": [
    "pt=data[['Gas (in British pence per therm)','electricity (in British pounds per megawatt hour)']]\n",
    "pt.plot()"
   ]
  },
  {
   "cell_type": "code",
   "execution_count": null,
   "metadata": {},
   "outputs": [],
   "source": []
  }
 ],
 "metadata": {
  "kernelspec": {
   "display_name": "Python 3",
   "language": "python",
   "name": "python3"
  },
  "language_info": {
   "codemirror_mode": {
    "name": "ipython",
    "version": 3
   },
   "file_extension": ".py",
   "mimetype": "text/x-python",
   "name": "python",
   "nbconvert_exporter": "python",
   "pygments_lexer": "ipython3",
   "version": "3.7.6"
  }
 },
 "nbformat": 4,
 "nbformat_minor": 4
}
